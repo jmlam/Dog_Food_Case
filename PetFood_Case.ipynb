{
 "cells": [
  {
   "cell_type": "code",
   "execution_count": 38,
   "metadata": {},
   "outputs": [],
   "source": [
    "import pandas as pd\n",
    "import numpy as np\n",
    "import matplotlib.pyplot as plt"
   ]
  },
  {
   "cell_type": "code",
   "execution_count": 39,
   "metadata": {},
   "outputs": [],
   "source": [
    "xls = pd.ExcelFile('20180509_Business_Analyst_Case.xlsx')\n",
    "df = pd.read_excel(xls, 'Data')"
   ]
  },
  {
   "cell_type": "code",
   "execution_count": 40,
   "metadata": {},
   "outputs": [],
   "source": [
    "df = df.drop(np.arange(7)).reset_index()\n",
    "df.columns = df.iloc[0]\n",
    "df = df[1:]\n",
    "df = df.reset_index().drop(columns = [7, 'index'])\n",
    "df.columns = df.columns.str.lower().str.replace(' ', '_')"
   ]
  },
  {
   "cell_type": "markdown",
   "metadata": {},
   "source": [
    "### Customer Orders Data\n",
    "- **\"Customer\":** Unique customers who started buying our products in Jan or February 2018\n",
    "- **\"Date Shipped\":** Date when orders were fulfilled.  Note that some customers made multiple orders (repeat purchases) while other customers did not.\n",
    "- **\"Product ID\":** Unique SKU representing which product was ordered\n",
    "- **\"Brand\":**  The customers were buyers of one of 3 brands.  They only purchased from 1 of the 3.\n",
    "- **\"Channel\":** How we acquired these customers"
   ]
  },
  {
   "cell_type": "markdown",
   "metadata": {},
   "source": [
    "### Insight Questions - What keeps customers coming back?\n",
    "<ol>\n",
    "    <li> Which brand(s) are stronger and which are weaker at driving repeat purchases? </li>\n",
    "    <li>Does the marketing channel used to acquire customers make a difference?  </li>\n",
    "    <li>Are there specific products which are associated with repeat purchases? </li>\n",
    "    <li>Any other insights that you think would be relevant? </li>\n",
    "<li>What would be your recommendations around Brand, Product, Marketing to improve repeat purchases?</li>\n",
    "</ol>"
   ]
  },
  {
   "cell_type": "code",
   "execution_count": 43,
   "metadata": {
    "scrolled": true
   },
   "outputs": [
    {
     "data": {
      "text/html": [
       "<div>\n",
       "<style scoped>\n",
       "    .dataframe tbody tr th:only-of-type {\n",
       "        vertical-align: middle;\n",
       "    }\n",
       "\n",
       "    .dataframe tbody tr th {\n",
       "        vertical-align: top;\n",
       "    }\n",
       "\n",
       "    .dataframe thead th {\n",
       "        text-align: right;\n",
       "    }\n",
       "</style>\n",
       "<table border=\"1\" class=\"dataframe\">\n",
       "  <thead>\n",
       "    <tr style=\"text-align: right;\">\n",
       "      <th></th>\n",
       "      <th>customer</th>\n",
       "      <th>date_shipped</th>\n",
       "      <th>product_id</th>\n",
       "      <th>brand</th>\n",
       "      <th>channel</th>\n",
       "    </tr>\n",
       "  </thead>\n",
       "  <tbody>\n",
       "    <tr>\n",
       "      <th>0</th>\n",
       "      <td>8711264</td>\n",
       "      <td>2018-01-03 00:00:00</td>\n",
       "      <td>677</td>\n",
       "      <td>White Whale</td>\n",
       "      <td>Partner</td>\n",
       "    </tr>\n",
       "    <tr>\n",
       "      <th>1</th>\n",
       "      <td>8711416</td>\n",
       "      <td>2018-01-03 00:00:00</td>\n",
       "      <td>677</td>\n",
       "      <td>White Whale</td>\n",
       "      <td>Direct</td>\n",
       "    </tr>\n",
       "    <tr>\n",
       "      <th>2</th>\n",
       "      <td>8711424</td>\n",
       "      <td>2018-01-03 00:00:00</td>\n",
       "      <td>494</td>\n",
       "      <td>Black Dog</td>\n",
       "      <td>Direct</td>\n",
       "    </tr>\n",
       "    <tr>\n",
       "      <th>3</th>\n",
       "      <td>8712968</td>\n",
       "      <td>2018-01-03 00:00:00</td>\n",
       "      <td>677</td>\n",
       "      <td>White Whale</td>\n",
       "      <td>Direct</td>\n",
       "    </tr>\n",
       "    <tr>\n",
       "      <th>4</th>\n",
       "      <td>8714688</td>\n",
       "      <td>2018-01-03 00:00:00</td>\n",
       "      <td>677</td>\n",
       "      <td>White Whale</td>\n",
       "      <td>Direct</td>\n",
       "    </tr>\n",
       "  </tbody>\n",
       "</table>\n",
       "</div>"
      ],
      "text/plain": [
       "0 customer         date_shipped product_id        brand  channel\n",
       "0  8711264  2018-01-03 00:00:00        677  White Whale  Partner\n",
       "1  8711416  2018-01-03 00:00:00        677  White Whale   Direct\n",
       "2  8711424  2018-01-03 00:00:00        494    Black Dog   Direct\n",
       "3  8712968  2018-01-03 00:00:00        677  White Whale   Direct\n",
       "4  8714688  2018-01-03 00:00:00        677  White Whale   Direct"
      ]
     },
     "execution_count": 43,
     "metadata": {},
     "output_type": "execute_result"
    }
   ],
   "source": [
    "df.head()"
   ]
  },
  {
   "cell_type": "markdown",
   "metadata": {},
   "source": [
    "Which brands are stronger/weaker amongst repeat purchases?\n",
    "- Get dataframe of repeat purchases only\n",
    "- Determine most successful brand\n",
    "    - Aggregate level\n",
    "         - Is channel related?\n",
    "         - Is there a particular time that weights a certain brand?\n",
    "    - Unique repeat customers? (make new dataset)"
   ]
  },
  {
   "cell_type": "code",
   "execution_count": 45,
   "metadata": {},
   "outputs": [],
   "source": [
    "repeat_df = df[df.duplicated(subset = 'customer') == True]"
   ]
  },
  {
   "cell_type": "code",
   "execution_count": 48,
   "metadata": {},
   "outputs": [],
   "source": [
    "#brand proportion amongst repeat customers\n",
    "repeat_prop = repeat_df.groupby(['brand']).count()['customer'] / repeat_df.shape[0]"
   ]
  },
  {
   "cell_type": "code",
   "execution_count": 70,
   "metadata": {},
   "outputs": [
    {
     "data": {
      "image/png": "[encoded data removed]",
      "text/plain": [
       "<Figure size 432x288 with 1 Axes>"
      ]
     },
     "metadata": {},
     "output_type": "display_data"
    }
   ],
   "source": [
    "fraction = list(repeat_prop)\n",
    "label = list(repeat_prop.index)\n",
    "plt.pie(fraction, labels = label, autopct = '%1.1f%%');"
   ]
  },
  {
   "cell_type": "markdown",
   "metadata": {},
   "source": [
    "From this aggregation of repeat customers, it would seem that White Whale is the most popular choice of Dog Food at nearly 70% of purchases from repeat customers, while Orange Cat and Black Dog occupying the . However, it is uncertain if this could be driven by a particular buyer or by a particular time. For instance, White Whale could be an enormous purchase done by a single individual or supplier which would greatly inflate it's popularity."
   ]
  },
  {
   "cell_type": "markdown",
   "metadata": {},
   "source": [
    "### Unique Repeat Customers"
   ]
  },
  {
   "cell_type": "code",
   "execution_count": 80,
   "metadata": {},
   "outputs": [
    {
     "data": {
      "text/plain": [
       "count    3334.000000\n",
       "mean        1.939412\n",
       "std         0.756562\n",
       "min         1.000000\n",
       "25%         1.000000\n",
       "50%         2.000000\n",
       "75%         2.000000\n",
       "max         7.000000\n",
       "Name: brand, dtype: float64"
      ]
     },
     "execution_count": 80,
     "metadata": {},
     "output_type": "execute_result"
    }
   ],
   "source": [
    "#number of repeats from dataset\n",
    "repeat_df.groupby(['customer']).count()['brand'].describe()"
   ]
  },
  {
   "cell_type": "markdown",
   "metadata": {},
   "source": [
    "It would seem that on average the usual number of repeats is around 2, with the maximum of 7. Although it would seem that there are no outrageous outliers in terms of repeat buyers, it may still be useful to check if strictly unique buyers are considered. Below, two different pie charts will be created"
   ]
  },
  {
   "cell_type": "markdown",
   "metadata": {},
   "source": [
    "### Repeat Customers Graphed Over Time"
   ]
  },
  {
   "cell_type": "code",
   "execution_count": null,
   "metadata": {},
   "outputs": [],
   "source": []
  }
 ],
 "metadata": {
  "kernelspec": {
   "display_name": "Python 3",
   "language": "python",
   "name": "python3"
  },
  "language_info": {
   "codemirror_mode": {
    "name": "ipython",
    "version": 3
   },
   "file_extension": ".py",
   "mimetype": "text/x-python",
   "name": "python",
   "nbconvert_exporter": "python",
   "pygments_lexer": "ipython3",
   "version": "3.7.3"
  }
 },
 "nbformat": 4,
 "nbformat_minor": 2
}

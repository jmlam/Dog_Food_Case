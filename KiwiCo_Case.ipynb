{
 "cells": [
  {
   "cell_type": "code",
   "execution_count": 39,
   "metadata": {},
   "outputs": [],
   "source": [
    "import pandas as pd\n",
    "import numpy as np\n",
    "import matplotlib.pyplot as plt"
   ]
  },
  {
   "cell_type": "code",
   "execution_count": 40,
   "metadata": {},
   "outputs": [],
   "source": [
    "xls = pd.ExcelFile('20180509_Business_Analyst_Case.xlsx')\n",
    "df = pd.read_excel(xls, 'Data')"
   ]
  },
  {
   "cell_type": "code",
   "execution_count": 41,
   "metadata": {},
   "outputs": [],
   "source": [
    "df = df.drop(np.arange(7)).reset_index()\n",
    "df.columns = df.iloc[0]\n",
    "df = df[1:]\n",
    "df.drop(columns = 7, inplace = True)"
   ]
  },
  {
   "cell_type": "markdown",
   "metadata": {},
   "source": [
    "### Customer Orders Data\n",
    "- **\"Customer\":** Unique customers who started buying our products in Jan or February 2018\n",
    "- **\"Date Shipped\":** Date when orders were fulfilled.  Note that some customers made multiple orders (repeat purchases) while other customers did not.\n",
    "- **\"Product ID\":** Unique SKU representing which product was ordered\n",
    "- **\"Brand\":**  The customers were buyers of one of 3 brands.  They only purchased from 1 of the 3.\n",
    "- **\"Channel\":** How we acquired these customers"
   ]
  },
  {
   "attachments": {},
   "cell_type": "markdown",
   "metadata": {},
   "source": [
    "### Insight Questions\n",
    "<ol>\n",
    "    <li> Which brand(s) are stronger and which are weaker at driving repeat purchases? </li>\n",
    "    <li>Does the marketing channel used to acquire customers make a difference?  </li>\n",
    "    <li>Are there specific products which are associated with repeat purchases? </li>\n",
    "    <li>Any other insights that you think would be relevant? </li>\n",
    "<li>What would be your recommendations around Brand, Product, Marketing to improve repeat purchases?</li>\n",
    "</ol>"
   ]
  },
  {
   "cell_type": "code",
   "execution_count": 43,
   "metadata": {
    "scrolled": true
   },
   "outputs": [],
   "source": [
    "df;"
   ]
  },
  {
   "cell_type": "markdown",
   "metadata": {},
   "source": [
    "Which brands are stronger/weaker amongst repeat purchases?\n",
    "- Get dataframe of repeat purchases only\n",
    "- Determine brand succcess"
   ]
  },
  {
   "cell_type": "code",
   "execution_count": null,
   "metadata": {},
   "outputs": [],
   "source": []
  }
 ],
 "metadata": {
  "kernelspec": {
   "display_name": "Python 3",
   "language": "python",
   "name": "python3"
  },
  "language_info": {
   "codemirror_mode": {
    "name": "ipython",
    "version": 3
   },
   "file_extension": ".py",
   "mimetype": "text/x-python",
   "name": "python",
   "nbconvert_exporter": "python",
   "pygments_lexer": "ipython3",
   "version": "3.7.3"
  }
 },
 "nbformat": 4,
 "nbformat_minor": 2
}
